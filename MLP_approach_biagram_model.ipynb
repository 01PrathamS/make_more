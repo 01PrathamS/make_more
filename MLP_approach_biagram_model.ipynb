{
  "nbformat": 4,
  "nbformat_minor": 0,
  "metadata": {
    "colab": {
      "provenance": [],
      "authorship_tag": "ABX9TyOB36fECiDtfk7Toa28cGWc",
      "include_colab_link": true
    },
    "kernelspec": {
      "name": "python3",
      "display_name": "Python 3"
    },
    "language_info": {
      "name": "python"
    }
  },
  "cells": [
    {
      "cell_type": "markdown",
      "metadata": {
        "id": "view-in-github",
        "colab_type": "text"
      },
      "source": [
        "<a href=\"https://colab.research.google.com/github/01PrathamS/make_more/blob/main/MLP_approach_biagram_model.ipynb\" target=\"_parent\"><img src=\"https://colab.research.google.com/assets/colab-badge.svg\" alt=\"Open In Colab\"/></a>"
      ]
    },
    {
      "cell_type": "code",
      "source": [
        "import torch\n",
        "import torch.nn.functional as F\n",
        "import matplotlib.pyplot as plt\n",
        "%matplotlib inline"
      ],
      "metadata": {
        "id": "cEbJw2sshk6_"
      },
      "execution_count": 1,
      "outputs": []
    },
    {
      "cell_type": "code",
      "source": [
        "words = open('make_more_names.txt', 'r').read().splitlines()\n",
        "words[:8]"
      ],
      "metadata": {
        "colab": {
          "base_uri": "https://localhost:8080/"
        },
        "id": "BKMw7Y9IpODm",
        "outputId": "c111b547-d1ff-43dd-8062-d151a5664524"
      },
      "execution_count": 2,
      "outputs": [
        {
          "output_type": "execute_result",
          "data": {
            "text/plain": [
              "['emma', 'olivia', 'ava', 'isabella', 'sophia', 'charlotte', 'mia', 'amelia']"
            ]
          },
          "metadata": {},
          "execution_count": 2
        }
      ]
    },
    {
      "cell_type": "code",
      "source": [
        "len(words)"
      ],
      "metadata": {
        "colab": {
          "base_uri": "https://localhost:8080/"
        },
        "id": "LjPZiPXRpYnf",
        "outputId": "bbb28a73-9c81-4f7c-ec5e-bffa1d9df763"
      },
      "execution_count": 3,
      "outputs": [
        {
          "output_type": "execute_result",
          "data": {
            "text/plain": [
              "32033"
            ]
          },
          "metadata": {},
          "execution_count": 3
        }
      ]
    },
    {
      "cell_type": "code",
      "source": [
        "chars = sorted(list(set(''.join(words))))\n",
        "stoi = {s:i+1 for i,s in enumerate(chars)}\n",
        "stoi['.'] = 0\n",
        "itos = {i:s for s,i in stoi.items()}\n",
        "print(itos)"
      ],
      "metadata": {
        "colab": {
          "base_uri": "https://localhost:8080/"
        },
        "id": "MpSxQ8BXpZ2f",
        "outputId": "ff8e16a3-0c07-45d2-b689-1a647f775985"
      },
      "execution_count": 4,
      "outputs": [
        {
          "output_type": "stream",
          "name": "stdout",
          "text": [
            "{1: 'a', 2: 'b', 3: 'c', 4: 'd', 5: 'e', 6: 'f', 7: 'g', 8: 'h', 9: 'i', 10: 'j', 11: 'k', 12: 'l', 13: 'm', 14: 'n', 15: 'o', 16: 'p', 17: 'q', 18: 'r', 19: 's', 20: 't', 21: 'u', 22: 'v', 23: 'w', 24: 'x', 25: 'y', 26: 'z', 0: '.'}\n"
          ]
        }
      ]
    },
    {
      "cell_type": "code",
      "source": [
        "block_size = 3\n",
        "def build_dataset(words):\n",
        "  X, y = [], []\n",
        "  # for w in words[:5]:\n",
        "  for w in words:\n",
        "    context = [0] * block_size\n",
        "    for ch in w + '.':\n",
        "      ix = stoi[ch]\n",
        "      X.append(context)\n",
        "      y.append(ix)\n",
        "      # print(''.join(itos[i] for i in context), '--->', itos[ix])\n",
        "      context = context[1:] + [ix]\n",
        "  X = torch.tensor(X)\n",
        "  y = torch.tensor(y)\n",
        "  return X, y\n",
        "\n",
        "X , y = build_dataset(words)\n",
        "X.shape, y.shape\n"
      ],
      "metadata": {
        "colab": {
          "base_uri": "https://localhost:8080/"
        },
        "id": "ptoDsLR2pb7G",
        "outputId": "45170b3e-8b44-4418-9a65-b79d0e0e0bad"
      },
      "execution_count": 87,
      "outputs": [
        {
          "output_type": "execute_result",
          "data": {
            "text/plain": [
              "(torch.Size([228146, 3]), torch.Size([228146]))"
            ]
          },
          "metadata": {},
          "execution_count": 87
        }
      ]
    },
    {
      "cell_type": "code",
      "source": [
        "C = torch.randn((27, 2))"
      ],
      "metadata": {
        "id": "l2Rvl-jRpy8-"
      },
      "execution_count": 47,
      "outputs": []
    },
    {
      "cell_type": "code",
      "source": [
        "C[5]"
      ],
      "metadata": {
        "colab": {
          "base_uri": "https://localhost:8080/"
        },
        "id": "F1bULhg7qvwB",
        "outputId": "5a6f17dd-9a59-475c-921d-54490c630e42"
      },
      "execution_count": 48,
      "outputs": [
        {
          "output_type": "execute_result",
          "data": {
            "text/plain": [
              "tensor([-0.0136,  0.0359])"
            ]
          },
          "metadata": {},
          "execution_count": 48
        }
      ]
    },
    {
      "cell_type": "markdown",
      "source": [
        "this is one way to doing it"
      ],
      "metadata": {
        "id": "s8WvVWZjq5A8"
      }
    },
    {
      "cell_type": "code",
      "source": [
        "F.one_hot(torch.tensor(5), num_classes=27).float() @ C"
      ],
      "metadata": {
        "colab": {
          "base_uri": "https://localhost:8080/"
        },
        "id": "2piCDbNeqxmU",
        "outputId": "0f08738c-6f21-4bcb-c85b-71ab4d5c82f6"
      },
      "execution_count": 14,
      "outputs": [
        {
          "output_type": "execute_result",
          "data": {
            "text/plain": [
              "tensor([ 0.4727, -0.0610])"
            ]
          },
          "metadata": {},
          "execution_count": 14
        }
      ]
    },
    {
      "cell_type": "code",
      "source": [
        "F.one_hot(torch.tensor(5), num_classes=27).float() @ C  == C[5]"
      ],
      "metadata": {
        "colab": {
          "base_uri": "https://localhost:8080/"
        },
        "id": "Tw4alHOJrCs_",
        "outputId": "eabb4a9e-c847-49b8-bef6-9ce2b2764e53"
      },
      "execution_count": 15,
      "outputs": [
        {
          "output_type": "execute_result",
          "data": {
            "text/plain": [
              "tensor([True, True])"
            ]
          },
          "metadata": {},
          "execution_count": 15
        }
      ]
    },
    {
      "cell_type": "markdown",
      "source": [
        "we are doing indexing because it is much more faster & PyTorch indexig is awesome"
      ],
      "metadata": {
        "id": "x6K8vDfSq9cq"
      }
    },
    {
      "cell_type": "code",
      "source": [
        "## embedding matrix for input data\n",
        "\n",
        "emb = C[X]\n",
        "emb.shape"
      ],
      "metadata": {
        "colab": {
          "base_uri": "https://localhost:8080/"
        },
        "id": "9UlvYdaQqK_5",
        "outputId": "c0a8bd28-74a8-4740-9942-cc7e42db15ff"
      },
      "execution_count": 49,
      "outputs": [
        {
          "output_type": "execute_result",
          "data": {
            "text/plain": [
              "torch.Size([228146, 3, 2])"
            ]
          },
          "metadata": {},
          "execution_count": 49
        }
      ]
    },
    {
      "cell_type": "code",
      "source": [
        "W1 = torch.randn((6, 100))\n",
        "b1 = torch.randn(100)"
      ],
      "metadata": {
        "id": "umXnj5HzqdiW"
      },
      "execution_count": 50,
      "outputs": []
    },
    {
      "cell_type": "code",
      "source": [
        "emb @ W1 + b1"
      ],
      "metadata": {
        "id": "gIGw3EKYrrNu"
      },
      "execution_count": null,
      "outputs": []
    },
    {
      "cell_type": "code",
      "source": [
        "# i need to fix the shape first there are many ways to do it\n",
        "\n",
        "# torch.cat([emb[:, 0, :], emb[:, 1, :], emb[:, 2, :]], 1).shape ## ((32, 6))\n",
        "\n",
        "# torch.cat(torch.unbind(emb, 1), 1).shape ## ((32, 6))\n",
        "\n",
        "# emb.view(32, 6)"
      ],
      "metadata": {
        "id": "MQ6RF1dvsOxJ"
      },
      "execution_count": 20,
      "outputs": []
    },
    {
      "cell_type": "code",
      "source": [
        "## h = hidden states\n",
        "\n",
        "# h = emb.view(emb.shape[0], 6) @ W1 + b1\n",
        "h = emb.view(-1, 6) @ W1 + b1\n",
        "h.shape"
      ],
      "metadata": {
        "colab": {
          "base_uri": "https://localhost:8080/"
        },
        "id": "pKQ_lIGksd2f",
        "outputId": "eb627eac-cfd0-4f51-9020-588602ee7d80"
      },
      "execution_count": 21,
      "outputs": [
        {
          "output_type": "execute_result",
          "data": {
            "text/plain": [
              "torch.Size([32, 100])"
            ]
          },
          "metadata": {},
          "execution_count": 21
        }
      ]
    },
    {
      "cell_type": "code",
      "source": [
        "## final layer\n",
        "\n",
        "W2 = torch.randn((100, 27))\n",
        "b2 = torch.randn(27)"
      ],
      "metadata": {
        "id": "Z6EylYqdvfo_"
      },
      "execution_count": 22,
      "outputs": []
    },
    {
      "cell_type": "code",
      "source": [
        "logits = h @ W2 + b2\n",
        "logits. shape"
      ],
      "metadata": {
        "colab": {
          "base_uri": "https://localhost:8080/"
        },
        "id": "fkCy1KGBvydI",
        "outputId": "d5c74e50-757d-4f8e-f02c-7879205fae91"
      },
      "execution_count": 23,
      "outputs": [
        {
          "output_type": "execute_result",
          "data": {
            "text/plain": [
              "torch.Size([32, 27])"
            ]
          },
          "metadata": {},
          "execution_count": 23
        }
      ]
    },
    {
      "cell_type": "code",
      "source": [
        "counts = logits.exp()"
      ],
      "metadata": {
        "id": "9KC3WigIv1wx"
      },
      "execution_count": 24,
      "outputs": []
    },
    {
      "cell_type": "code",
      "source": [
        "prob = counts / counts.sum(1, keepdims=True)\n",
        "prob.shape"
      ],
      "metadata": {
        "colab": {
          "base_uri": "https://localhost:8080/"
        },
        "id": "IqHRRMoXv4_3",
        "outputId": "27c71006-7a35-4d8a-d87b-157d64d503f7"
      },
      "execution_count": 25,
      "outputs": [
        {
          "output_type": "execute_result",
          "data": {
            "text/plain": [
              "torch.Size([32, 27])"
            ]
          },
          "metadata": {},
          "execution_count": 25
        }
      ]
    },
    {
      "cell_type": "code",
      "source": [
        "prob[0].sum()"
      ],
      "metadata": {
        "colab": {
          "base_uri": "https://localhost:8080/"
        },
        "id": "lYMPLW2ov7qO",
        "outputId": "fab2e60d-7268-49d5-845b-9dc449f77629"
      },
      "execution_count": 26,
      "outputs": [
        {
          "output_type": "execute_result",
          "data": {
            "text/plain": [
              "tensor(1.)"
            ]
          },
          "metadata": {},
          "execution_count": 26
        }
      ]
    },
    {
      "cell_type": "code",
      "source": [
        "prob[torch.arange(32), y] ## this doesn't look right"
      ],
      "metadata": {
        "colab": {
          "base_uri": "https://localhost:8080/"
        },
        "id": "mSVyHgCrv_Sa",
        "outputId": "4f10ddb0-eba1-4ded-9a85-529e1b2d4ff7"
      },
      "execution_count": 30,
      "outputs": [
        {
          "output_type": "execute_result",
          "data": {
            "text/plain": [
              "tensor([1.3662e-09, 3.2892e-10, 3.1922e-11, 1.7630e-07, 1.5329e-23, 7.6222e-05,\n",
              "        7.7215e-12, 9.9998e-01, 2.8984e-15, 2.6553e-16, 3.6367e-22, 1.0640e-29,\n",
              "        9.3292e-02, 1.7529e-21, 1.0000e+00, 4.7730e-21, 4.2230e-01, 3.8536e-30,\n",
              "        1.0000e+00, 3.4630e-05, 2.6339e-17, 7.4900e-20, 1.5673e-19, 1.0000e+00,\n",
              "        3.8204e-26, 5.9845e-15, 1.5293e-08, 8.1235e-18, 2.3525e-19, 8.2897e-01,\n",
              "        7.0307e-02, 2.8568e-32])"
            ]
          },
          "metadata": {},
          "execution_count": 30
        }
      ]
    },
    {
      "cell_type": "code",
      "source": [
        "loss = -prob[torch.arange(32), y].log().mean()\n",
        "loss"
      ],
      "metadata": {
        "colab": {
          "base_uri": "https://localhost:8080/"
        },
        "id": "uiTZUUJ7wDmY",
        "outputId": "1c0becc2-7e3b-4f4e-97df-9bb30af91412"
      },
      "execution_count": 31,
      "outputs": [
        {
          "output_type": "execute_result",
          "data": {
            "text/plain": [
              "tensor(28.8534)"
            ]
          },
          "metadata": {},
          "execution_count": 31
        }
      ]
    },
    {
      "cell_type": "markdown",
      "source": [
        "## let's do it all at once"
      ],
      "metadata": {
        "id": "MVooFRWGwWg9"
      }
    },
    {
      "cell_type": "code",
      "source": [
        "g = torch.Generator().manual_seed(2147483647)\n",
        "C = torch.randn((27, 2), generator=g)\n",
        "W1 = torch.randn((6, 100), generator=g)\n",
        "b1 = torch.randn(100, generator=g)\n",
        "W2 = torch.randn((100, 27), generator=g)\n",
        "b2 = torch.randn(27, generator=g)\n",
        "parameters = [C, W1, b1, W2, b2]"
      ],
      "metadata": {
        "id": "W3VKREDewT-6"
      },
      "execution_count": 51,
      "outputs": []
    },
    {
      "cell_type": "code",
      "source": [
        "sum(p.nelement() for p in parameters)"
      ],
      "metadata": {
        "colab": {
          "base_uri": "https://localhost:8080/"
        },
        "id": "TZxrW9jawesq",
        "outputId": "8136735a-af3d-4c07-ddc9-2cfd1345db94"
      },
      "execution_count": 52,
      "outputs": [
        {
          "output_type": "execute_result",
          "data": {
            "text/plain": [
              "3481"
            ]
          },
          "metadata": {},
          "execution_count": 52
        }
      ]
    },
    {
      "cell_type": "code",
      "source": [
        "# counts = logits.exp()\n",
        "# prob = counts / counts.sum(1, keepdims=True)\n",
        "# loss = -prob[torch.arange(32), y].log().mean()\n",
        "\n",
        "\"\"\"both this works exactly same\"\"\"\n",
        "\n",
        "# F.cross_entropy(logits, y)"
      ],
      "metadata": {
        "id": "3s_-dLqIyyhB"
      },
      "execution_count": null,
      "outputs": []
    },
    {
      "cell_type": "code",
      "source": [
        "for p in parameters:\n",
        "  p.requires_grad = True"
      ],
      "metadata": {
        "id": "rn9WfwVwyJ6H"
      },
      "execution_count": 53,
      "outputs": []
    },
    {
      "cell_type": "code",
      "source": [
        "for _ in range(10):\n",
        "  ## forward pass\n",
        "\n",
        "  emb = C[X] ## [32, 3, 2]\n",
        "  h = torch.tanh(emb.view(-1, 6) @ W1 + b1) ## (32 ,100)\n",
        "  logits = h @ W2 + b2 ## (32, 27)\n",
        "  # counts = logits.exp()\n",
        "  # prob = counts / counts.sum(1, keepdims=True)\n",
        "  # loss = -prob[torch.arange(32), y].log().mean()\n",
        "  loss = F.cross_entropy(logits, y)\n",
        "  print(loss.item())\n",
        "  for p in parameters:\n",
        "    p.grad = None\n",
        "\n",
        "  loss.backward()\n",
        "\n",
        "  ## update\n",
        "  for p in parameters:\n",
        "    p.data += -0.1 * p.grad\n",
        "\n",
        "print(loss.item())"
      ],
      "metadata": {
        "colab": {
          "base_uri": "https://localhost:8080/"
        },
        "id": "Sx7jdoLdwhAQ",
        "outputId": "4b879916-1069-4a03-f293-3acd60996ca4"
      },
      "execution_count": 56,
      "outputs": [
        {
          "output_type": "stream",
          "name": "stdout",
          "text": [
            "5.165928363800049\n",
            "5.105468273162842\n",
            "5.046748161315918\n",
            "4.98969841003418\n",
            "4.934261322021484\n",
            "4.880379676818848\n",
            "4.828005790710449\n",
            "4.777095794677734\n",
            "4.727609157562256\n",
            "4.679513931274414\n",
            "4.679513931274414\n"
          ]
        }
      ]
    },
    {
      "cell_type": "code",
      "source": [
        "logits.max(1)"
      ],
      "metadata": {
        "colab": {
          "base_uri": "https://localhost:8080/"
        },
        "id": "PITK59O8xxLl",
        "outputId": "1a09a1be-26e4-43d6-e47b-c61e2265324a"
      },
      "execution_count": 44,
      "outputs": [
        {
          "output_type": "execute_result",
          "data": {
            "text/plain": [
              "torch.return_types.max(\n",
              "values=tensor([13.3510, 17.8046, 20.5907, 20.6152, 16.7506, 13.3510, 15.9861, 14.1982,\n",
              "        15.9253, 18.4024, 15.9537, 20.9405, 13.3510, 17.1353, 17.1624, 20.0772,\n",
              "        13.3510, 16.4689, 15.1473, 17.0675, 18.6008, 15.9788, 10.8855, 10.6977,\n",
              "        15.5140, 13.3510, 16.2492, 16.9674, 12.7503, 16.2225, 19.0975, 16.0375],\n",
              "       grad_fn=<MaxBackward0>),\n",
              "indices=tensor([ 9, 13, 13,  1,  0,  9, 12,  9, 22,  9,  1,  0,  9, 22,  1,  0,  9, 19,\n",
              "         1,  2,  5, 12, 12,  1,  0,  9, 15, 16,  8,  9,  1,  0]))"
            ]
          },
          "metadata": {},
          "execution_count": 44
        }
      ]
    },
    {
      "cell_type": "code",
      "source": [
        "y"
      ],
      "metadata": {
        "colab": {
          "base_uri": "https://localhost:8080/"
        },
        "id": "J2lso-jTywht",
        "outputId": "b0988152-6a2c-4201-a09c-82faa7ec7207"
      },
      "execution_count": 45,
      "outputs": [
        {
          "output_type": "execute_result",
          "data": {
            "text/plain": [
              "tensor([ 5, 13, 13,  1,  0, 15, 12,  9, 22,  9,  1,  0,  1, 22,  1,  0,  9, 19,\n",
              "         1,  2,  5, 12, 12,  1,  0, 19, 15, 16,  8,  9,  1,  0])"
            ]
          },
          "metadata": {},
          "execution_count": 45
        }
      ]
    },
    {
      "cell_type": "markdown",
      "source": [
        "#forward and backward pass on many batches of data"
      ],
      "metadata": {
        "id": "5zi3elrGzutr"
      }
    },
    {
      "cell_type": "code",
      "source": [
        "torch.randint(0, X.shape[0], (32,))"
      ],
      "metadata": {
        "colab": {
          "base_uri": "https://localhost:8080/"
        },
        "id": "sJQQAYi_y9ya",
        "outputId": "e6b471e7-71e3-4fdf-87d7-c79d73b55509"
      },
      "execution_count": 59,
      "outputs": [
        {
          "output_type": "execute_result",
          "data": {
            "text/plain": [
              "tensor([ 90446,   4570, 140753,   3063, 172672,  35896,  71992,  24223, 118013,\n",
              "        160020, 160408, 147611, 129599, 211999, 165804, 167543,  68538,  75800,\n",
              "        147588, 208792, 223305,  36968,  52245,  90242, 227165, 149255, 160711,\n",
              "         87578, 145835, 218317, 110605,  76849])"
            ]
          },
          "metadata": {},
          "execution_count": 59
        }
      ]
    },
    {
      "cell_type": "code",
      "source": [
        "for _ in range(1000):\n",
        "\n",
        "  ## minibatch\n",
        "  ix = torch.randint(0, X.shape[0], (32,))\n",
        "\n",
        "  ## forward pass\n",
        "  emb = C[X[ix]] ## [32, 3, 2]\n",
        "  h = torch.tanh(emb.view(-1, 6) @ W1 + b1) ## (32 ,100)\n",
        "  logits = h @ W2 + b2 ## (32, 27)\n",
        "  loss = F.cross_entropy(logits, y[ix])\n",
        "  # print(loss.item())\n",
        "\n",
        "  # backward pass\n",
        "  for p in parameters:\n",
        "    p.grad = None\n",
        "  loss.backward()\n",
        "\n",
        "  ## update\n",
        "  for p in parameters:\n",
        "    p.data += -0.1 * p.grad\n",
        "\n",
        "print(loss.item())"
      ],
      "metadata": {
        "colab": {
          "base_uri": "https://localhost:8080/"
        },
        "id": "pkTiuMM2ztgT",
        "outputId": "9542ee89-7fc4-4021-976a-60909b8434e0"
      },
      "execution_count": 68,
      "outputs": [
        {
          "output_type": "stream",
          "name": "stdout",
          "text": [
            "2.135053873062134\n"
          ]
        }
      ]
    },
    {
      "cell_type": "code",
      "source": [
        "## let's check parallel how full model is working right now\n",
        "\n",
        "emb = C[X]\n",
        "h = torch.tanh(emb.view(-1, 6) @ W1 + b1)\n",
        "logits = h @ W2 + b2\n",
        "loss = F.cross_entropy(logits, y)\n",
        "loss"
      ],
      "metadata": {
        "colab": {
          "base_uri": "https://localhost:8080/"
        },
        "id": "WTVYQt1p0d58",
        "outputId": "f4b413c3-e9cc-4aaf-f952-c991a130858e"
      },
      "execution_count": 69,
      "outputs": [
        {
          "output_type": "execute_result",
          "data": {
            "text/plain": [
              "tensor(2.5527, grad_fn=<NllLossBackward0>)"
            ]
          },
          "metadata": {},
          "execution_count": 69
        }
      ]
    },
    {
      "cell_type": "markdown",
      "source": [
        "## finding out good learning rate"
      ],
      "metadata": {
        "id": "kn8nMK3-1U52"
      }
    },
    {
      "cell_type": "code",
      "source": [
        "lre = torch.linspace(-3, 0, 1000)\n",
        "lrs = 10**lre  ## 0.0001 -- 1\n",
        "lrs.shape"
      ],
      "metadata": {
        "colab": {
          "base_uri": "https://localhost:8080/"
        },
        "id": "kX_ivoY70n-I",
        "outputId": "2eca2ff2-848d-44c7-8609-4eb7f348c742"
      },
      "execution_count": 72,
      "outputs": [
        {
          "output_type": "execute_result",
          "data": {
            "text/plain": [
              "torch.Size([1000])"
            ]
          },
          "metadata": {},
          "execution_count": 72
        }
      ]
    },
    {
      "cell_type": "code",
      "source": [
        "## instead of making learning static we are doing\n",
        "## slowly in starting and increasing over the time"
      ],
      "metadata": {
        "id": "ImAsjwDf1fot"
      },
      "execution_count": 73,
      "outputs": []
    },
    {
      "cell_type": "code",
      "source": [
        "lri = []\n",
        "lossi = []\n",
        "\n",
        "for i in range(1000):\n",
        "\n",
        "  ## minibatch\n",
        "  ix = torch.randint(0, X.shape[0], (32,))\n",
        "\n",
        "  ## forward pass\n",
        "  emb = C[X[ix]] ## [32, 3, 2]\n",
        "  h = torch.tanh(emb.view(-1, 6) @ W1 + b1) ## (32 ,100)\n",
        "  logits = h @ W2 + b2 ## (32, 27)\n",
        "  loss = F.cross_entropy(logits, y[ix])\n",
        "  # print(loss.item())\n",
        "\n",
        "  # backward pass\n",
        "  for p in parameters:\n",
        "    p.grad = None\n",
        "  loss.backward()\n",
        "\n",
        "  ## update\n",
        "  lr = lrs[i]\n",
        "  for p in parameters:\n",
        "    p.data += -lr * p.grad\n",
        "\n",
        "  ## track status\n",
        "  lri.append(lre[i])\n",
        "  lossi.append(loss.item())\n",
        "\n",
        "print(loss.item())"
      ],
      "metadata": {
        "colab": {
          "base_uri": "https://localhost:8080/"
        },
        "id": "ZcHKYeKA100X",
        "outputId": "8de58af1-260e-4057-9dc8-73ae378a049f"
      },
      "execution_count": 84,
      "outputs": [
        {
          "output_type": "stream",
          "name": "stdout",
          "text": [
            "4.038361072540283\n"
          ]
        }
      ]
    },
    {
      "cell_type": "code",
      "source": [
        "plt.plot(lri, lossi)"
      ],
      "metadata": {
        "colab": {
          "base_uri": "https://localhost:8080/",
          "height": 447
        },
        "id": "HiAPHdIY2JZ5",
        "outputId": "61ed72ed-c104-427f-f505-28791153f3e3"
      },
      "execution_count": 85,
      "outputs": [
        {
          "output_type": "execute_result",
          "data": {
            "text/plain": [
              "[<matplotlib.lines.Line2D at 0x7ee991e6bee0>]"
            ]
          },
          "metadata": {},
          "execution_count": 85
        },
        {
          "output_type": "display_data",
          "data": {
            "text/plain": [
              "<Figure size 640x480 with 1 Axes>"
            ],
            "image/png": "[encoded data removed]"
          },
          "metadata": {}
        }
      ]
    },
    {
      "cell_type": "code",
      "source": [
        "## more parameters model have more the possibility of overfitting\n",
        "## how to make it convenient"
      ],
      "metadata": {
        "id": "LObIPGn92MIX"
      },
      "execution_count": 86,
      "outputs": []
    },
    {
      "cell_type": "code",
      "source": [
        "## training_split, dev/validation split, test_split\n",
        "\n",
        "## 80% , 10% , 10%"
      ],
      "metadata": {
        "id": "2SxBXVij33RG"
      },
      "execution_count": null,
      "outputs": []
    },
    {
      "cell_type": "code",
      "source": [
        "import random\n",
        "random.seed(42)\n",
        "random.shuffle(words)\n",
        "\n",
        "n1 = int(0.8*len(words))\n",
        "n2 = int(0.9*len(words))\n",
        "\n",
        "Xtr, ytr = build_dataset(words[:n1])\n",
        "Xdev, ydev = build_dataset(words[n1:n2])\n",
        "Xte, yte = build_dataset(words[n2:])"
      ],
      "metadata": {
        "id": "S2qHBe3z4Jtk"
      },
      "execution_count": 89,
      "outputs": []
    },
    {
      "cell_type": "code",
      "source": [
        "len(words), n1, n2, n2-n1"
      ],
      "metadata": {
        "colab": {
          "base_uri": "https://localhost:8080/"
        },
        "id": "qFC6mtjV7Hrj",
        "outputId": "1704b8f4-daf2-45fa-e3eb-f69d485ea8fc"
      },
      "execution_count": 90,
      "outputs": [
        {
          "output_type": "execute_result",
          "data": {
            "text/plain": [
              "(32033, 25626, 28829, 3203)"
            ]
          },
          "metadata": {},
          "execution_count": 90
        }
      ]
    },
    {
      "cell_type": "code",
      "source": [
        "## reset parameters of neural network"
      ],
      "metadata": {
        "id": "qKKEnEpR7rah"
      },
      "execution_count": null,
      "outputs": []
    },
    {
      "cell_type": "code",
      "source": [
        "g = torch.Generator().manual_seed(2147483647)\n",
        "C = torch.randn((27, 2), generator=g)\n",
        "W1 = torch.randn((6, 100), generator=g)\n",
        "b1 = torch.randn(100, generator=g)\n",
        "W2 = torch.randn((100, 27), generator=g)\n",
        "b2 = torch.randn(27, generator=g)\n",
        "parameters = [C, W1, b1, W2, b2]"
      ],
      "metadata": {
        "id": "LZtcYzpQ7KMB"
      },
      "execution_count": null,
      "outputs": []
    },
    {
      "cell_type": "code",
      "source": [
        "sum(p.nelement() for p in parameters)"
      ],
      "metadata": {
        "id": "rNZxju7L-HsB"
      },
      "execution_count": null,
      "outputs": []
    },
    {
      "cell_type": "code",
      "source": [
        "lri = []\n",
        "lossi = []\n",
        "\n",
        "for _ in range(10000):\n",
        "\n",
        "  ## minibatch\n",
        "  ix = torch.randint(0, Xtr.shape[0], (32,))\n",
        "\n",
        "  ## forward pass\n",
        "  emb = C[X[ix]] ## [32, 3, 2]\n",
        "  h = torch.tanh(emb.view(-1, 6) @ W1 + b1) ## (32 ,100)\n",
        "  logits = h @ W2 + b2 ## (32, 27)\n",
        "  loss = F.cross_entropy(logits, ytr[ix])\n",
        "  # print(loss.item())\n",
        "\n",
        "  # backward pass\n",
        "  for p in parameters:\n",
        "    p.grad = None\n",
        "  loss.backward()\n",
        "\n",
        "  ## update\n",
        "  lr = 0.01\n",
        "  for p in parameters:\n",
        "    p.data += -lr * p.grad\n",
        "\n",
        "print(loss.item())"
      ],
      "metadata": {
        "colab": {
          "base_uri": "https://localhost:8080/"
        },
        "id": "ZRLG3xuh8JCn",
        "outputId": "4d9037ed-c56f-494b-a3af-8ffe0f515056"
      },
      "execution_count": 95,
      "outputs": [
        {
          "output_type": "stream",
          "name": "stdout",
          "text": [
            "2.790403127670288\n"
          ]
        }
      ]
    },
    {
      "cell_type": "code",
      "source": [
        "emb = C[Xdev]\n",
        "h = torch.tanh(emb.view(-1, 6) @ W1 + b1)\n",
        "logits = h @ W2 + b2\n",
        "loss = F.cross_entropy(logits, ydev)\n",
        "loss"
      ],
      "metadata": {
        "colab": {
          "base_uri": "https://localhost:8080/"
        },
        "id": "H9ZijQSH8TGb",
        "outputId": "d82cf4e4-bc4e-45ed-dfcf-66d3dfd1a979"
      },
      "execution_count": 96,
      "outputs": [
        {
          "output_type": "execute_result",
          "data": {
            "text/plain": [
              "tensor(2.8229, grad_fn=<NllLossBackward0>)"
            ]
          },
          "metadata": {},
          "execution_count": 96
        }
      ]
    },
    {
      "cell_type": "code",
      "source": [
        "emb = C[Xte]\n",
        "h = torch.tanh(emb.view(-1, 6) @ W1 + b1)\n",
        "logits = h @ W2 + b2\n",
        "loss = F.cross_entropy(logits, yte)\n",
        "loss"
      ],
      "metadata": {
        "colab": {
          "base_uri": "https://localhost:8080/"
        },
        "id": "VBic6EUl8XEk",
        "outputId": "b8e8000c-954a-4cec-f3e6-2873837a150c"
      },
      "execution_count": 97,
      "outputs": [
        {
          "output_type": "execute_result",
          "data": {
            "text/plain": [
              "tensor(2.8245, grad_fn=<NllLossBackward0>)"
            ]
          },
          "metadata": {},
          "execution_count": 97
        }
      ]
    },
    {
      "cell_type": "code",
      "source": [
        "## validation loss and test loss are nearly equal\n",
        "## that sign's we are not overfitting\n",
        "## the model is underfitting there are less number of parameters\n",
        "## we need to increase the number of parameter"
      ],
      "metadata": {
        "id": "m-7aVa588ynJ"
      },
      "execution_count": 98,
      "outputs": []
    },
    {
      "cell_type": "code",
      "source": [
        "g = torch.Generator().manual_seed(2147483647)\n",
        "C = torch.randn((27, 2), generator=g)\n",
        "W1 = torch.randn((6, 300), generator=g)\n",
        "b1 = torch.randn(300, generator=g)\n",
        "W2 = torch.randn((300, 27), generator=g)\n",
        "b2 = torch.randn(27, generator=g)\n",
        "parameters = [C, W1, b1, W2, b2]"
      ],
      "metadata": {
        "id": "eSEP6oa69D2j"
      },
      "execution_count": 107,
      "outputs": []
    },
    {
      "cell_type": "code",
      "source": [
        "sum(p.nelement() for p in parameters)"
      ],
      "metadata": {
        "colab": {
          "base_uri": "https://localhost:8080/"
        },
        "id": "coUvQJxR-FL1",
        "outputId": "a97760ae-d2c1-40dc-819b-6760bb65d9d0"
      },
      "execution_count": 108,
      "outputs": [
        {
          "output_type": "execute_result",
          "data": {
            "text/plain": [
              "10281"
            ]
          },
          "metadata": {},
          "execution_count": 108
        }
      ]
    },
    {
      "cell_type": "code",
      "source": [
        "for p in parameters:\n",
        "  p.requires_grad = True"
      ],
      "metadata": {
        "id": "NEodVqvf-UNu"
      },
      "execution_count": 110,
      "outputs": []
    },
    {
      "cell_type": "code",
      "source": [
        "lri = []\n",
        "lossi = []\n",
        "stepi = []\n",
        "\n",
        "for i in range(30000):\n",
        "\n",
        "  ## minibatch\n",
        "  ix = torch.randint(0, Xtr.shape[0], (32,))\n",
        "\n",
        "  ## forward pass\n",
        "  emb = C[X[ix]] ## [32, 3, 2]\n",
        "  h = torch.tanh(emb.view(-1, 6) @ W1 + b1) ## (32 ,100)\n",
        "  logits = h @ W2 + b2 ## (32, 27)\n",
        "  loss = F.cross_entropy(logits, ytr[ix])\n",
        "  # print(loss.item())\n",
        "\n",
        "  # backward pass\n",
        "  for p in parameters:\n",
        "    p.grad = None\n",
        "  loss.backward()\n",
        "\n",
        "  ## update\n",
        "  lr = 0.1\n",
        "  for p in parameters:\n",
        "    p.data += -lr * p.grad\n",
        "\n",
        "  ## track status\n",
        "  # lri.append(lre[i])\n",
        "  stepi.append(i)\n",
        "  lossi.append(loss.item())\n",
        "\n",
        "print(loss.item())"
      ],
      "metadata": {
        "colab": {
          "base_uri": "https://localhost:8080/"
        },
        "id": "9UwNNjNX9Q6E",
        "outputId": "dd24cef6-4234-4bb8-ee70-af3b25749154"
      },
      "execution_count": 120,
      "outputs": [
        {
          "output_type": "stream",
          "name": "stdout",
          "text": [
            "2.917642116546631\n"
          ]
        }
      ]
    },
    {
      "cell_type": "code",
      "source": [
        "plt.plot(stepi, lossi)"
      ],
      "metadata": {
        "colab": {
          "base_uri": "https://localhost:8080/",
          "height": 447
        },
        "id": "sY8R7rdH9fmc",
        "outputId": "82f642d9-f975-485c-da31-106264d18fe6"
      },
      "execution_count": 112,
      "outputs": [
        {
          "output_type": "execute_result",
          "data": {
            "text/plain": [
              "[<matplotlib.lines.Line2D at 0x7ee972a2e500>]"
            ]
          },
          "metadata": {},
          "execution_count": 112
        },
        {
          "output_type": "display_data",
          "data": {
            "text/plain": [
              "<Figure size 640x480 with 1 Axes>"
            ],
            "image/png": "[encoded data removed]"
          },
          "metadata": {}
        }
      ]
    },
    {
      "cell_type": "code",
      "source": [
        "emb = C[Xdev]\n",
        "h = torch.tanh(emb.view(-1, 6) @ W1 + b1)\n",
        "logits = h @ W2 + b2\n",
        "loss = F.cross_entropy(logits, ydev)\n",
        "loss"
      ],
      "metadata": {
        "colab": {
          "base_uri": "https://localhost:8080/"
        },
        "id": "FaCvGFUB9iay",
        "outputId": "239f6452-84fe-43ff-b5a0-10744229c3d7"
      },
      "execution_count": 121,
      "outputs": [
        {
          "output_type": "execute_result",
          "data": {
            "text/plain": [
              "tensor(2.8718, grad_fn=<NllLossBackward0>)"
            ]
          },
          "metadata": {},
          "execution_count": 121
        }
      ]
    },
    {
      "cell_type": "code",
      "source": [
        "emb = C[Xte]\n",
        "h = torch.tanh(emb.view(-1, 6) @ W1 + b1)\n",
        "logits = h @ W2 + b2\n",
        "loss = F.cross_entropy(logits, yte)\n",
        "loss"
      ],
      "metadata": {
        "colab": {
          "base_uri": "https://localhost:8080/"
        },
        "id": "oVZTPsDG-dTX",
        "outputId": "465309cf-7e75-43d1-f7e0-847f9a6c76be"
      },
      "execution_count": 122,
      "outputs": [
        {
          "output_type": "execute_result",
          "data": {
            "text/plain": [
              "tensor(2.8721, grad_fn=<NllLossBackward0>)"
            ]
          },
          "metadata": {},
          "execution_count": 122
        }
      ]
    },
    {
      "cell_type": "code",
      "source": [
        "## visualize embeddings train by the neural network\n",
        "\n",
        "plt.figure(figsize=(8, 8))\n",
        "plt.scatter(C[:, 0].data, C[:, 1].data, s=200)\n",
        "for i in range(C.shape[0]):\n",
        "  plt.text(C[i, 0].item(), C[i, 1].item(), itos[i], ha='center', va='center', color='white')\n",
        "plt.grid('minor')"
      ],
      "metadata": {
        "colab": {
          "base_uri": "https://localhost:8080/",
          "height": 676
        },
        "id": "vXiTan-o-f8c",
        "outputId": "c3eac44e-cba0-4947-c3ef-fb85e32ea17c"
      },
      "execution_count": 123,
      "outputs": [
        {
          "output_type": "display_data",
          "data": {
            "text/plain": [
              "<Figure size 800x800 with 1 Axes>"
            ],
            "image/png": "[encoded data removed]"
          },
          "metadata": {}
        }
      ]
    },
    {
      "cell_type": "code",
      "source": [
        "## this is not improving the loss\n",
        "\n",
        "# bottleneck here may be embedding size of each character --. write now it is 2\n",
        "## let's make it 10 and look at the performance\n"
      ],
      "metadata": {
        "id": "XLcRyVtM-3Ni"
      },
      "execution_count": 124,
      "outputs": []
    },
    {
      "cell_type": "code",
      "source": [
        "g = torch.Generator().manual_seed(2147483647)\n",
        "C = torch.randn((27, 10), generator=g)\n",
        "W1 = torch.randn((30, 200), generator=g)\n",
        "b1 = torch.randn(200, generator=g)\n",
        "W2 = torch.randn((200, 27), generator=g)\n",
        "b2 = torch.randn(27, generator=g)\n",
        "parameters = [C, W1, b1, W2, b2]"
      ],
      "metadata": {
        "id": "AlCm2dJu_d3H"
      },
      "execution_count": 125,
      "outputs": []
    },
    {
      "cell_type": "code",
      "source": [
        "lri = []\n",
        "lossi = []\n",
        "stepi = []"
      ],
      "metadata": {
        "id": "i5ipu5zC_3lK"
      },
      "execution_count": 126,
      "outputs": []
    },
    {
      "cell_type": "code",
      "source": [
        "for p in parameters:\n",
        "  p.requires_grad = True"
      ],
      "metadata": {
        "id": "id2De4FxALJv"
      },
      "execution_count": 129,
      "outputs": []
    },
    {
      "cell_type": "code",
      "source": [
        "\n",
        "for i in range(50000):\n",
        "\n",
        "  ## minibatch\n",
        "  ix = torch.randint(0, Xtr.shape[0], (32,))\n",
        "\n",
        "  ## forward pass\n",
        "  emb = C[X[ix]] ## [32, 3, 2]\n",
        "  h = torch.tanh(emb.view(-1, 30) @ W1 + b1) ## (32 ,100)\n",
        "  logits = h @ W2 + b2 ## (32, 27)\n",
        "  loss = F.cross_entropy(logits, ytr[ix])\n",
        "  # print(loss.item())\n",
        "\n",
        "  # backward pass\n",
        "  for p in parameters:\n",
        "    p.grad = None\n",
        "  loss.backward()\n",
        "\n",
        "  ## update\n",
        "  lr = 0.01\n",
        "  for p in parameters:\n",
        "    p.data += -lr * p.grad\n",
        "\n",
        "  ## track status\n",
        "  # lri.append(lre[i])\n",
        "  stepi.append(i)\n",
        "  lossi.append(loss.log10().item())\n",
        "\n",
        "print(loss.item())"
      ],
      "metadata": {
        "colab": {
          "base_uri": "https://localhost:8080/"
        },
        "id": "uvxFkU4Z_vaR",
        "outputId": "2138b3c0-fd0c-403f-fe47-cc125af1b6c5"
      },
      "execution_count": 135,
      "outputs": [
        {
          "output_type": "stream",
          "name": "stdout",
          "text": [
            "2.7549118995666504\n"
          ]
        }
      ]
    },
    {
      "cell_type": "code",
      "source": [
        "plt.plot(stepi, lossi)"
      ],
      "metadata": {
        "colab": {
          "base_uri": "https://localhost:8080/",
          "height": 447
        },
        "id": "cZHq8yhPAFRA",
        "outputId": "b60e054c-5c5f-492e-9abb-6f19eaafb370"
      },
      "execution_count": 136,
      "outputs": [
        {
          "output_type": "execute_result",
          "data": {
            "text/plain": [
              "[<matplotlib.lines.Line2D at 0x7ee99144a5c0>]"
            ]
          },
          "metadata": {},
          "execution_count": 136
        },
        {
          "output_type": "display_data",
          "data": {
            "text/plain": [
              "<Figure size 640x480 with 1 Axes>"
            ],
            "image/png": "[encoded data removed]"
          },
          "metadata": {}
        }
      ]
    },
    {
      "cell_type": "code",
      "source": [
        "emb = C[Xdev]\n",
        "h = torch.tanh(emb.view(-1, 30) @ W1 + b1)\n",
        "logits = h @ W2 + b2\n",
        "loss = F.cross_entropy(logits, ydev)\n",
        "loss"
      ],
      "metadata": {
        "colab": {
          "base_uri": "https://localhost:8080/"
        },
        "id": "ENhzYtIgACW1",
        "outputId": "c66076b3-d42b-4e15-d207-fa4dabfcbfb2"
      },
      "execution_count": 137,
      "outputs": [
        {
          "output_type": "execute_result",
          "data": {
            "text/plain": [
              "tensor(2.8585, grad_fn=<NllLossBackward0>)"
            ]
          },
          "metadata": {},
          "execution_count": 137
        }
      ]
    },
    {
      "cell_type": "code",
      "source": [
        "emb = C[Xdev]\n",
        "h = torch.tanh(emb.view(-1, 30) @ W1 + b1)\n",
        "logits = h @ W2 + b2\n",
        "loss = F.cross_entropy(logits, ydev)\n",
        "loss"
      ],
      "metadata": {
        "colab": {
          "base_uri": "https://localhost:8080/"
        },
        "id": "ATavj0UiAEE7",
        "outputId": "3476b5c9-03f3-4e1a-ce11-b1993cb7122f"
      },
      "execution_count": 138,
      "outputs": [
        {
          "output_type": "execute_result",
          "data": {
            "text/plain": [
              "tensor(2.8585, grad_fn=<NllLossBackward0>)"
            ]
          },
          "metadata": {},
          "execution_count": 138
        }
      ]
    },
    {
      "cell_type": "code",
      "source": [
        "# let's decreate the learning rate to 0.01 and iterate more 50000 times"
      ],
      "metadata": {
        "id": "kKpg1QV3ATtB"
      },
      "execution_count": null,
      "outputs": []
    },
    {
      "cell_type": "code",
      "source": [
        "plt.figure(figsize=(8, 8))\n",
        "plt.scatter(C[:, 0].data, C[:, 1].data, s=200)\n",
        "for i in range(C.shape[0]):\n",
        "  plt.text(C[i, 0].item(), C[i, 1].item(), itos[i], ha='center', va='center', color='white')\n",
        "plt.grid('minor')"
      ],
      "metadata": {
        "id": "LxjCwpfIAJ9u"
      },
      "execution_count": null,
      "outputs": []
    },
    {
      "cell_type": "code",
      "source": [
        "## sample from the model\n",
        "\n",
        "g = torch.Generator().manual_seed(2147483647 + 10)\n",
        "\n",
        "for _ in range(20):\n",
        "\n",
        "  out = []\n",
        "  context = [0] * block_size\n",
        "  while True:\n",
        "    emb = C[torch.tensor([context])]\n",
        "    h = torch.tanh(emb.view(1, -1) @ W1 + b1)\n",
        "    logits = h @ W2 + b2\n",
        "    probs = F.softmax(logits, dim=1)\n",
        "    ix = torch.multinomial(probs, num_samples=1, replacement=True, generator=g).item()\n",
        "    context = context[1:] + [ix]\n",
        "    out.append(ix)\n",
        "    if ix == 0:\n",
        "      break\n",
        "  print(''.join(itos[i] for i in out))"
      ],
      "metadata": {
        "colab": {
          "base_uri": "https://localhost:8080/"
        },
        "id": "skot5zqqBBk4",
        "outputId": "619a645f-39f5-49e3-83de-5d6fd987b467"
      },
      "execution_count": 140,
      "outputs": [
        {
          "output_type": "stream",
          "name": "stdout",
          "text": [
            "erraaimyazhheelmndhryalarethrsjdhdrlrg.\n",
            "aiehedieliihnmp.\n",
            "oealeieiseananarneltzimhlkaain.\n",
            "sadbvrgahimies.\n",
            ".\n",
            "n.\n",
            "ir.\n",
            "eelklxntpooanu.\n",
            "amnedar.\n",
            "yirlemehs.\n",
            "lmajm.\n",
            "sknyaaahya.\n",
            "nalyansun.\n",
            "zajrlvjiren.\n",
            ".\n",
            "rt.\n",
            "ns.\n",
            "eaoec.\n",
            "noadbrfhnkoeoehngpeihasatteyyh.\n",
            "hmreollii.\n"
          ]
        }
      ]
    },
    {
      "cell_type": "code",
      "source": [
        "# this is working for karpathy not for me ...\n",
        "## i need to experiment more with parameters\n",
        "\n",
        "##experiments\n",
        "## neural parameters\n",
        "## character passed as context\n",
        "## embedding size\n",
        "## learing rate\n",
        "## number of iteration\n",
        "## ..\n",
        "\n",
        "## i 'm hoping hyperparameter tuning lead me to good results"
      ],
      "metadata": {
        "id": "_Q_3BDmZBQsR"
      },
      "execution_count": null,
      "outputs": []
    }
  ]
}